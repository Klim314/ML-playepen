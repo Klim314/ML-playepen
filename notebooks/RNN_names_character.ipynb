{
 "cells": [
  {
   "cell_type": "code",
   "execution_count": 1,
   "metadata": {},
   "outputs": [],
   "source": [
    "import torch\n",
    "from torch import nn\n",
    "import torch.nn.functional as F\n",
    "from torch.utils.data import Dataset, DataLoader\n",
    "from torch.nn.utils.rnn import pack_padded_sequence, pad_packed_sequence, pad_sequence, pack_sequence\n",
    "\n",
    "import random\n",
    "import os\n",
    "import unicodedata\n",
    "import string\n",
    "\n",
    "data_path = \"../data/names\""
   ]
  },
  {
   "cell_type": "code",
   "execution_count": 2,
   "metadata": {},
   "outputs": [],
   "source": [
    "all_letters = string.ascii_letters + \" .,;\"\n",
    "\n",
    "def unicode2ascii(s):\n",
    "    # Converts a unicode string to an ascii string\n",
    "    return \"\".join(char for char in unicodedata.normalize(\"NFD\", s)\n",
    "                   if unicodedata.category(char) != \"Mn\"\n",
    "                   and char in all_letters)"
   ]
  },
  {
   "cell_type": "code",
   "execution_count": 3,
   "metadata": {},
   "outputs": [
    {
     "name": "stdout",
     "output_type": "stream",
     "text": [
      "20074 16059 4015\n",
      "[{'name': 'janimov', 'language': 'russian'}, {'name': 'adrol', 'language': 'english'}, {'name': 'jahno', 'language': 'russian'}, {'name': 'binnington', 'language': 'english'}, {'name': 'tikhin', 'language': 'russian'}] [{'name': 'andryuhin', 'language': 'russian'}, {'name': 'fadeechev', 'language': 'russian'}, {'name': 'ukhabin', 'language': 'russian'}, {'name': 'danisevich', 'language': 'russian'}, {'name': 'tallett', 'language': 'english'}]\n"
     ]
    }
   ],
   "source": [
    "# Load data\n",
    "# Random seed\n",
    "random.seed(1235)\n",
    "# Load raw data directly\n",
    "n_languages = len(os.listdir(data_path))\n",
    "names = []\n",
    "categories = set()\n",
    "for i in os.listdir(data_path):\n",
    "    language, ext = os.path.splitext(i)\n",
    "    language = language.lower()\n",
    "    with open(os.path.join(data_path, i), encoding=\"utf-8\") as f:\n",
    "        for i in f:\n",
    "            names.append({\"name\": i.lower().strip(),\n",
    "                          \"language\": language})\n",
    "    categories.add(language)\n",
    "# make categories indexable\n",
    "categories = list(categories)\n",
    "\n",
    "# Clean all names by converting to ascii\n",
    "for namedict in names:\n",
    "    namedict[\"name\"] = unicode2ascii(namedict[\"name\"])\n",
    "    \n",
    "# split the data into train and test\n",
    "random.shuffle(names)\n",
    "# 80/20 train test split\n",
    "total = len(names)\n",
    "trainsplit = 0.8\n",
    "point = int(total * trainsplit)\n",
    "train_data, test_data = names[:point], names[point:]\n",
    "print(total, len(train_data), len(test_data))\n",
    "print(train_data[:5], test_data[:5])"
   ]
  },
  {
   "cell_type": "code",
   "execution_count": 79,
   "metadata": {},
   "outputs": [
    {
     "name": "stdout",
     "output_type": "stream",
     "text": [
      "tensor([[ 1.,  0.,  0.,  0.,  0.,  0.,  0.,  0.,  0.,  0.,  0.,  0.,\n",
      "          0.,  0.,  0.,  0.,  0.,  0.,  0.,  0.,  0.,  0.,  0.,  0.,\n",
      "          0.,  0.,  0.,  0.,  0.,  0.,  0.,  0.,  0.,  0.,  0.,  0.,\n",
      "          0.,  0.,  0.,  0.,  0.,  0.,  0.,  0.,  0.,  0.,  0.,  0.,\n",
      "          0.,  0.,  0.,  0.,  0.,  0.,  0.,  0.],\n",
      "        [ 0.,  1.,  0.,  0.,  0.,  0.,  0.,  0.,  0.,  0.,  0.,  0.,\n",
      "          0.,  0.,  0.,  0.,  0.,  0.,  0.,  0.,  0.,  0.,  0.,  0.,\n",
      "          0.,  0.,  0.,  0.,  0.,  0.,  0.,  0.,  0.,  0.,  0.,  0.,\n",
      "          0.,  0.,  0.,  0.,  0.,  0.,  0.,  0.,  0.,  0.,  0.,  0.,\n",
      "          0.,  0.,  0.,  0.,  0.,  0.,  0.,  0.],\n",
      "        [ 0.,  0.,  1.,  0.,  0.,  0.,  0.,  0.,  0.,  0.,  0.,  0.,\n",
      "          0.,  0.,  0.,  0.,  0.,  0.,  0.,  0.,  0.,  0.,  0.,  0.,\n",
      "          0.,  0.,  0.,  0.,  0.,  0.,  0.,  0.,  0.,  0.,  0.,  0.,\n",
      "          0.,  0.,  0.,  0.,  0.,  0.,  0.,  0.,  0.,  0.,  0.,  0.,\n",
      "          0.,  0.,  0.,  0.,  0.,  0.,  0.,  0.]]) torch.Size([3, 56])\n",
      "abc\n",
      "PackedSequence(data=tensor([[ 0.,  0.,  0.,  1.,  0.,  0.,  0.,  0.,  0.,  0.,  0.,  0.,\n",
      "          0.,  0.,  0.,  0.,  0.,  0.,  0.,  0.,  0.,  0.,  0.,  0.,\n",
      "          0.,  0.,  0.,  0.,  0.,  0.,  0.,  0.,  0.,  0.,  0.,  0.,\n",
      "          0.,  0.,  0.,  0.,  0.,  0.,  0.,  0.,  0.,  0.,  0.,  0.,\n",
      "          0.,  0.,  0.,  0.,  0.,  0.,  0.,  0.],\n",
      "        [ 1.,  0.,  0.,  0.,  0.,  0.,  0.,  0.,  0.,  0.,  0.,  0.,\n",
      "          0.,  0.,  0.,  0.,  0.,  0.,  0.,  0.,  0.,  0.,  0.,  0.,\n",
      "          0.,  0.,  0.,  0.,  0.,  0.,  0.,  0.,  0.,  0.,  0.,  0.,\n",
      "          0.,  0.,  0.,  0.,  0.,  0.,  0.,  0.,  0.,  0.,  0.,  0.,\n",
      "          0.,  0.,  0.,  0.,  0.,  0.,  0.,  0.],\n",
      "        [ 0.,  0.,  0.,  0.,  0.,  0.,  0.,  1.,  0.,  0.,  0.,  0.,\n",
      "          0.,  0.,  0.,  0.,  0.,  0.,  0.,  0.,  0.,  0.,  0.,  0.,\n",
      "          0.,  0.,  0.,  0.,  0.,  0.,  0.,  0.,  0.,  0.,  0.,  0.,\n",
      "          0.,  0.,  0.,  0.,  0.,  0.,  0.,  0.,  0.,  0.,  0.,  0.,\n",
      "          0.,  0.,  0.,  0.,  0.,  0.,  0.,  0.],\n",
      "        [ 0.,  1.,  0.,  0.,  0.,  0.,  0.,  0.,  0.,  0.,  0.,  0.,\n",
      "          0.,  0.,  0.,  0.,  0.,  0.,  0.,  0.,  0.,  0.,  0.,  0.,\n",
      "          0.,  0.,  0.,  0.,  0.,  0.,  0.,  0.,  0.,  0.,  0.,  0.,\n",
      "          0.,  0.,  0.,  0.,  0.,  0.,  0.,  0.,  0.,  0.,  0.,  0.,\n",
      "          0.,  0.,  0.,  0.,  0.,  0.,  0.,  0.],\n",
      "        [ 0.,  0.,  0.,  0.,  1.,  0.,  0.,  0.,  0.,  0.,  0.,  0.,\n",
      "          0.,  0.,  0.,  0.,  0.,  0.,  0.,  0.,  0.,  0.,  0.,  0.,\n",
      "          0.,  0.,  0.,  0.,  0.,  0.,  0.,  0.,  0.,  0.,  0.,  0.,\n",
      "          0.,  0.,  0.,  0.,  0.,  0.,  0.,  0.,  0.,  0.,  0.,  0.,\n",
      "          0.,  0.,  0.,  0.,  0.,  0.,  0.,  0.],\n",
      "        [ 0.,  0.,  1.,  0.,  0.,  0.,  0.,  0.,  0.,  0.,  0.,  0.,\n",
      "          0.,  0.,  0.,  0.,  0.,  0.,  0.,  0.,  0.,  0.,  0.,  0.,\n",
      "          0.,  0.,  0.,  0.,  0.,  0.,  0.,  0.,  0.,  0.,  0.,  0.,\n",
      "          0.,  0.,  0.,  0.,  0.,  0.,  0.,  0.,  0.,  0.,  0.,  0.,\n",
      "          0.,  0.,  0.,  0.,  0.,  0.,  0.,  0.],\n",
      "        [ 0.,  0.,  0.,  0.,  0.,  1.,  0.,  0.,  0.,  0.,  0.,  0.,\n",
      "          0.,  0.,  0.,  0.,  0.,  0.,  0.,  0.,  0.,  0.,  0.,  0.,\n",
      "          0.,  0.,  0.,  0.,  0.,  0.,  0.,  0.,  0.,  0.,  0.,  0.,\n",
      "          0.,  0.,  0.,  0.,  0.,  0.,  0.,  0.,  0.,  0.,  0.,  0.,\n",
      "          0.,  0.,  0.,  0.,  0.,  0.,  0.,  0.]]), batch_sizes=tensor([ 2,  2,  2,  1]))\n",
      "torch.Size([2, 4, 56])\n"
     ]
    }
   ],
   "source": [
    "#Data cleaning functions\n",
    "def letter2index(l):\n",
    "    return all_letters.find(l)\n",
    "\n",
    "def index2letter(i):\n",
    "    return all_letters[i]\n",
    "\n",
    "# Turn an \n",
    "def line2tensor(line):\n",
    "    \"\"\"\n",
    "    @args\n",
    "        line (str): Line to be converted to tensor form\n",
    "    @returns:\n",
    "        line_length x n_letters tensor containing one hot encodings\n",
    "    \"\"\"\n",
    "    tensor = torch.zeros(len(line), len(all_letters))\n",
    "    for li, letter in enumerate(line):\n",
    "        tensor[li][letter2index(letter)] = 1\n",
    "    return tensor\n",
    "\n",
    "def tensor2line(tensor):\n",
    "    # Takes in a L, 56 tensor and returns the string that it represents\n",
    "    holder = []\n",
    "    for onehot in tensor:\n",
    "        holder.append(index2letter(torch.max(onehot, dim=0)[1]))\n",
    "    return \"\".join(holder)\n",
    "\n",
    "def tensors2line(tensors):\n",
    "    holder = []\n",
    "    for tensor in tensors:\n",
    "        holder.append(tensor2line(tensor))\n",
    "    return holder\n",
    "        \n",
    "        \n",
    "\n",
    "def lines2tensor(lines):\n",
    "    # Processes a string iterable and converts it to a padded, packed tensor ready for RNN ingestion\n",
    "    indatas = [line2tensor(i) for i in lines]\n",
    "    indatas.sort(key=lambda x: x.shape[0], reverse=True)\n",
    "#     print([i.shape for i in indatas])\n",
    "    indatas = pack_sequence(indatas)\n",
    "#     seq_lengths = [i.shape[1] for i in indatas]\n",
    "#     indatas = [i.view(-1, len(all_letters)) for i in indatas]\n",
    "#     indatas = pad_sequence(indatas, batch_first=True)\n",
    "#     indatas = pack_padded_sequence(indatas, seq_lengths, batch_first=True)\n",
    "    return indatas\n",
    "\n",
    "t = line2tensor(\"abc\")\n",
    "print(t, t.shape)\n",
    "print(tensor2line(t))\n",
    "test_packed = lines2tensor([\"abc\", \"dhef\"])\n",
    "print(test_packed)\n",
    "print(pad_packed_sequence(test_packed, batch_first=True)[0].shape)\n",
    "        \n",
    "    "
   ]
  },
  {
   "cell_type": "code",
   "execution_count": 5,
   "metadata": {},
   "outputs": [
    {
     "name": "stdout",
     "output_type": "stream",
     "text": [
      "{'name': ['bencivenni', 'bakaleinikov', 'antar', 'ghannam', 'makusev', 'shainurov', 'avtaev', 'pakhrin', 'yep', 'oneil', 'masih', 'quigley', 'agudov', 'achthoven', 'laraway', 'ahearn', 'peleev', 'tompkin', 'talbaev', 'giordano', 'boutros', 'teunissen', 'castro', 'ladyzhensky', 'adriyanoff', 'robert', 'levish', 'belin', 'oulton', 'deulin', 'mojaikin', 'guttridge'], 'language': ['italian', 'russian', 'arabic', 'arabic', 'russian', 'russian', 'russian', 'russian', 'chinese', 'english', 'arabic', 'english', 'russian', 'dutch', 'english', 'irish', 'russian', 'english', 'russian', 'italian', 'arabic', 'dutch', 'spanish', 'russian', 'russian', 'english', 'russian', 'russian', 'english', 'russian', 'russian', 'english']}\n"
     ]
    }
   ],
   "source": [
    "# Create datasets that produce tensor data\n",
    "class NameDataset(Dataset):\n",
    "    def __init__(self, data):\n",
    "        super().__init__()\n",
    "        self.data = data\n",
    "\n",
    "    def __len__(self):\n",
    "        return len(self.data)\n",
    "\n",
    "    def __getitem__(self, x):\n",
    "        return self.data[x]\n",
    "    \n",
    "train_dataset = NameDataset(train_data)\n",
    "test_dataset = NameDataset(test_data)\n",
    "train_dataset = DataLoader(batch_size=32, shuffle=True, dataset=train_dataset)\n",
    "test_dataset = DataLoader(batch_size=32, shuffle=True, dataset=test_dataset)\n",
    "print(next(train_dataset.__iter__()))"
   ]
  },
  {
   "cell_type": "code",
   "execution_count": 6,
   "metadata": {},
   "outputs": [
    {
     "name": "stdout",
     "output_type": "stream",
     "text": [
      "{'name': 'janimov', 'language': 'russian'}\n"
     ]
    }
   ],
   "source": [
    "print(train_data[0])"
   ]
  },
  {
   "cell_type": "code",
   "execution_count": 57,
   "metadata": {},
   "outputs": [],
   "source": [
    "# Define the Neural network\n",
    "class BasicRNN(nn.Module):\n",
    "    def __init__(self, input_size, hidden_size, output_size):\n",
    "        super().__init__()\n",
    "        self.hidden_size = hidden_size\n",
    "        self.output_size = output_size\n",
    "\n",
    "        self.rnn = nn.RNN(batch_first=True, hidden_size=hidden_size, input_size=input_size)\n",
    "        # Output layer to convert to the expected values\n",
    "        self.output = nn.Linear(hidden_size, output_size)\n",
    "        \n",
    "    def forward(self, packed):\n",
    "        _, hx = self.rnn(packed)\n",
    "        # Output is of form 1, seq_count, cats\n",
    "        output = self.output(hx)\n",
    "        # Shape it to seq_count, cats\n",
    "        return output.view(-1, self.output_size)\n",
    "        \n",
    "test_net = BasicRNN(len(all_letters), 128, len(categories))"
   ]
  },
  {
   "cell_type": "code",
   "execution_count": 58,
   "metadata": {},
   "outputs": [
    {
     "name": "stdout",
     "output_type": "stream",
     "text": [
      "PackedSequence(data=tensor([ 1,  1,  1,  2,  2,  3]), batch_sizes=tensor([ 3,  2,  1]))\n"
     ]
    },
    {
     "data": {
      "text/plain": [
       "(tensor([[ 1,  2,  3],\n",
       "         [ 1,  2,  0],\n",
       "         [ 1,  0,  0]]), tensor([ 3,  2,  1]))"
      ]
     },
     "execution_count": 58,
     "metadata": {},
     "output_type": "execute_result"
    }
   ],
   "source": [
    "# Figure out how sequence padding and packing work in pytorch\n",
    "# Create a test array of three sequences of length (1, 3, 2)\n",
    "testdata = [torch.tensor(i) for i in [[1],\n",
    "                                      [1, 2, 3],\n",
    "                                      [1, 2]]]\n",
    "# Sort the sequences in decreasing order cause pytorch wants it that way\n",
    "testdata.sort(reverse=True, key=lambda x: len(x))\n",
    "\n",
    "# seq_lengths = [len(i) for i in testdata]\n",
    "\n",
    "# This whole part outmoded by\n",
    "# # Pad the data with zeros so that these variable length sequences are of the same length\n",
    "# # batch_first = True cause I like the batches to be first\n",
    "# padded = pad_sequence(testdata, batch_first=True)\n",
    "# print(padded)\n",
    "# # Pack the sequence\n",
    "# packed = pack_padded_sequence(padded, seq_lengths, batch_first=True)\n",
    "# print(packed)\n",
    "packed = pack_sequence(testdata)\n",
    "print(packed)\n",
    "pad_packed_sequence(packed, batch_first=True)"
   ]
  },
  {
   "cell_type": "code",
   "execution_count": 59,
   "metadata": {},
   "outputs": [],
   "source": [
    "sample_data = next(train_dataset.__iter__())"
   ]
  },
  {
   "cell_type": "code",
   "execution_count": 80,
   "metadata": {},
   "outputs": [
    {
     "name": "stdout",
     "output_type": "stream",
     "text": [
      "['salamanca', 'windsor', 'mozhin']\n",
      "PackedSequence(data=tensor([[ 0.,  0.,  0.,  ...,  0.,  0.,  0.],\n",
      "        [ 0.,  0.,  0.,  ...,  0.,  0.,  0.],\n",
      "        [ 0.,  0.,  0.,  ...,  0.,  0.,  0.],\n",
      "        ...,\n",
      "        [ 0.,  0.,  0.,  ...,  0.,  0.,  0.],\n",
      "        [ 0.,  0.,  1.,  ...,  0.,  0.,  0.],\n",
      "        [ 1.,  0.,  0.,  ...,  0.,  0.,  0.]]), batch_sizes=tensor([ 3,  3,  3,  3,  3,  3,  2,  1,  1]))\n",
      "RNN output HX:  torch.Size([1, 3, 128])\n",
      "torch.Size([3, 18])\n",
      "tensor(1.00000e-02 *\n",
      "       [[ 5.1837,  5.0056,  6.1426,  5.3347,  5.1278,  6.3156,  5.2563,\n",
      "          5.9159,  5.6195,  5.7671,  5.5178,  5.4083,  5.2057,  6.0908,\n",
      "          6.0268,  5.3849,  5.6299,  5.0669],\n",
      "        [ 4.7370,  4.9136,  6.5397,  5.2144,  5.2133,  6.0095,  5.0403,\n",
      "          6.1807,  5.5723,  5.7727,  5.5756,  5.1264,  5.1509,  5.6095,\n",
      "          6.2172,  6.3172,  5.5561,  5.2537],\n",
      "        [ 5.2140,  4.6636,  6.1361,  5.3398,  5.4716,  6.0890,  5.1352,\n",
      "          6.0093,  5.7362,  5.6305,  5.2479,  5.0521,  5.3651,  5.7918,\n",
      "          6.7263,  5.9539,  5.3692,  5.0683]])\n",
      "torch.Size([3, 18])\n",
      "These should all be one\n",
      "tensor([ 1.0000,  1.0000,  1.0000])\n"
     ]
    }
   ],
   "source": [
    "# Test out the pytorch RNN implementation\n",
    "# RNN params\n",
    "hidden_size = 128\n",
    "input_size = len(all_letters)\n",
    "output_size = n_languages\n",
    "\n",
    "# testdata\n",
    "names = sample_data[\"name\"][:3]\n",
    "print(names)\n",
    "\n",
    "# Convert to tensor sequences\n",
    "\n",
    "# Pack the names to handle variable length input\n",
    "packed_names = lines2tensor(names)\n",
    "\n",
    "\n",
    "# Example of how the RNN class works\n",
    "net = nn.RNN(batch_first=True, hidden_size=hidden_size, input_size=input_size)\n",
    "\n",
    "print(packed_names)\n",
    "\n",
    "packed_output, hx = net(packed_names)\n",
    "print(\"RNN output HX: \", hx.shape)\n",
    "# Feed into a linear layer to get output (untrained)\n",
    "nn.Linear(128, 10)(hx)\n",
    "\n",
    "# Basic RNN based on the RNN class\n",
    "net = BasicRNN(hidden_size=hidden_size, input_size=input_size, output_size = output_size)\n",
    "output = net(packed_names)\n",
    "\n",
    "print(output.shape)\n",
    "softmaxed = F.softmax(output, dim=1)\n",
    "print(softmaxed)\n",
    "print(softmaxed.shape)\n",
    "print(\"These should all be one\")\n",
    "print(softmaxed.sum(dim=1))\n",
    "\n",
    "# OLD\n",
    "# Test parallel RNN execution\n",
    "# pytorch RNN takes input of form (B, S, F) since batch_first is used\n",
    "\n",
    "\n",
    "# indatas = [line2tensor(i) for i in names]\n",
    "# indatas.sort(key=lambda x: x.shape[1], reverse=True)\n",
    "# seq_lengths = [i.shape[1] for i in indatas]\n",
    "# print(seq_lengths)\n",
    "# indatas = [i.view(-1, len(all_letters)) for i in indatas]\n",
    "# print([i.shape for i in indatas])\n",
    "# indatas = pad_sequence(indatas, batch_first=True)\n",
    "# print(indatas.shape)\n",
    "# indatas = pack_padded_sequence(indatas, seq_lengths, batch_first=True)\n"
   ]
  },
  {
   "cell_type": "code",
   "execution_count": 76,
   "metadata": {},
   "outputs": [
    {
     "name": "stdout",
     "output_type": "stream",
     "text": [
      "tensor([[ 0.0814,  0.1730, -0.0733,  0.0006,  0.0747, -0.0025, -0.0081,\n",
      "         -0.0308, -0.1275, -0.0787,  0.1349, -0.0764,  0.0239,  0.0004,\n",
      "         -0.0684, -0.0827, -0.0473,  0.1088],\n",
      "        [ 0.0813,  0.0670, -0.0555,  0.0175,  0.0432,  0.0138,  0.0881,\n",
      "          0.0149, -0.1118, -0.0031,  0.0067, -0.0811,  0.0815, -0.0060,\n",
      "         -0.0539, -0.0442, -0.0165,  0.0439],\n",
      "        [ 0.0738,  0.1236, -0.0318,  0.0284,  0.0561, -0.0045,  0.0712,\n",
      "         -0.0040, -0.0632, -0.0240,  0.0862, -0.0131,  0.0468, -0.0171,\n",
      "          0.0049, -0.0996, -0.0875,  0.0564]]) torch.Size([3, 18])\n",
      "tensor([ 1,  6,  1])\n",
      "['chinese', 'german', 'chinese']\n",
      "12\n",
      "tensor([ 12])\n",
      "tensor(0.9398)\n",
      "tensor(0.9233)\n"
     ]
    }
   ],
   "source": [
    "def tensor2index_tensor(tensor):\n",
    "    # Converts a tensor of outputs (one-hot encoded) to a tensor of indicies\n",
    "    # Here, we're expecting them to be of form (n, catsize), where n is the number of samples\n",
    "    # returns a tensor of form (n) containing the indices\n",
    "    return F.softmax(tensor, dim=1).max(dim=1)[1]\n",
    "\n",
    "def index_tensor2cat(index_tensor):\n",
    "    # Converts an index tensor to a list of categories\n",
    "    return [categories[i] for i in index_tensor]\n",
    "\n",
    "\n",
    "def cat2index(cat):\n",
    "    return categories.index(cat)\n",
    "\n",
    "def cat2index_tensor(cat):\n",
    "    dat = [cat2index(cat)]\n",
    "    return torch.tensor(dat, dtype=torch.long)\n",
    "\n",
    "def cats2index_tensor(cats):\n",
    "    dat = [cat2index(cat) for cat in cats]\n",
    "    return torch.tensor(dat, dtype=torch.long)\n",
    "\n",
    "# def index_tensor2tensor(index_tensor, cat_size=len(categories)):\n",
    "#     # Converts an index tensor to a one hot encoding of \n",
    "    \n",
    "\n",
    "print(output, output.shape)\n",
    "idx_tensor = tensor2indextensor(output)\n",
    "print(idx_tensor)\n",
    "print(index_tensor2cat(idx_tensor))\n",
    "print(cat2index(\"portuguese\"))\n",
    "print(cat2index_tensor(\"portuguese\"))\n",
    "# Note: Cross Entropy log does the log_softmax then a NLLoss. \n",
    "# Expects input of raw output values, target of just the expected index\n",
    "criterion = nn.CrossEntropyLoss()\n",
    "loss = criterion(output, cats2index_tensor([\"portuguese\", \"german\", \"chinese\"]))\n",
    "print(loss/3)\n",
    "loss = criterion(output, cats2index_tensor([\"chinese\", \"german\", \"chinese\"]))\n",
    "print(loss/3)"
   ]
  },
  {
   "cell_type": "code",
   "execution_count": 107,
   "metadata": {},
   "outputs": [
    {
     "name": "stdout",
     "output_type": "stream",
     "text": [
      "Epoch: 0; Batch: 99; Loss: 2.841360569000244\n",
      "Epoch: 0; Batch: 199; Loss: 2.8402509689331055\n",
      "Epoch: 0; Batch: 299; Loss: 2.8420932292938232\n",
      "Epoch: 0; Batch: 399; Loss: 2.839658498764038\n",
      "Epoch: 0; Batch: 499; Loss: 2.841223955154419\n",
      "Epoch: 1; Batch: 99; Loss: 2.7059319019317627\n",
      "Epoch: 1; Batch: 199; Loss: 2.646411418914795\n",
      "Epoch: 1; Batch: 299; Loss: 2.644838571548462\n",
      "Epoch: 1; Batch: 399; Loss: 2.6461188793182373\n",
      "Epoch: 1; Batch: 499; Loss: 2.644071340560913\n",
      "Epoch: 2; Batch: 99; Loss: 2.342114210128784\n",
      "Epoch: 2; Batch: 199; Loss: 2.2967958450317383\n",
      "Epoch: 2; Batch: 299; Loss: 2.302952766418457\n",
      "Epoch: 2; Batch: 399; Loss: 2.2789788246154785\n",
      "Epoch: 2; Batch: 499; Loss: 2.2747859954833984\n",
      "Epoch: 3; Batch: 99; Loss: 2.0026121139526367\n",
      "Epoch: 3; Batch: 199; Loss: 1.981723666191101\n",
      "Epoch: 3; Batch: 299; Loss: 1.9475895166397095\n",
      "Epoch: 3; Batch: 399; Loss: 1.956693410873413\n",
      "Epoch: 3; Batch: 499; Loss: 2.0010578632354736\n",
      "Epoch: 4; Batch: 99; Loss: 2.104062795639038\n",
      "Epoch: 4; Batch: 199; Loss: 2.034681797027588\n",
      "Epoch: 4; Batch: 299; Loss: 2.0074334144592285\n",
      "Epoch: 4; Batch: 399; Loss: 2.024960517883301\n",
      "Epoch: 4; Batch: 499; Loss: 2.0254852771759033\n",
      "Epoch: 5; Batch: 99; Loss: 2.008270502090454\n",
      "Epoch: 5; Batch: 199; Loss: 2.0061237812042236\n",
      "Epoch: 5; Batch: 299; Loss: 2.0464091300964355\n",
      "Epoch: 5; Batch: 399; Loss: 2.0245590209960938\n",
      "Epoch: 5; Batch: 499; Loss: 1.9892617464065552\n",
      "Epoch: 6; Batch: 99; Loss: 2.0308361053466797\n",
      "Epoch: 6; Batch: 199; Loss: 2.0050230026245117\n",
      "Epoch: 6; Batch: 299; Loss: 1.9949820041656494\n",
      "Epoch: 6; Batch: 399; Loss: 1.9754444360733032\n",
      "Epoch: 6; Batch: 499; Loss: 1.9968740940093994\n",
      "Epoch: 7; Batch: 99; Loss: 2.011903762817383\n",
      "Epoch: 7; Batch: 199; Loss: 1.928452730178833\n",
      "Epoch: 7; Batch: 299; Loss: 1.949670433998108\n",
      "Epoch: 7; Batch: 399; Loss: 1.9641815423965454\n",
      "Epoch: 7; Batch: 499; Loss: 1.9399091005325317\n",
      "Epoch: 8; Batch: 99; Loss: 2.005305051803589\n",
      "Epoch: 8; Batch: 199; Loss: 1.901363492012024\n",
      "Epoch: 8; Batch: 299; Loss: 1.937381625175476\n",
      "Epoch: 8; Batch: 399; Loss: 1.9841892719268799\n",
      "Epoch: 8; Batch: 499; Loss: 1.9109022617340088\n",
      "Epoch: 9; Batch: 99; Loss: 1.9544434547424316\n",
      "Epoch: 9; Batch: 199; Loss: 1.9242383241653442\n",
      "Epoch: 9; Batch: 299; Loss: 1.942891240119934\n",
      "Epoch: 9; Batch: 399; Loss: 1.9410814046859741\n",
      "Epoch: 9; Batch: 499; Loss: 1.927978515625\n"
     ]
    }
   ],
   "source": [
    "hidden_size = 128\n",
    "input_size = len(all_letters)\n",
    "output_size = n_languages\n",
    "net = BasicRNN(input_size, hidden_size, output_size)\n",
    "\n",
    "criterion = nn.CrossEntropyLoss()\n",
    "optim = torch.optim.Adam(net.parameters(), lr=0.005)\n",
    "# net.cuda()\n",
    "epochs = 10\n",
    "losses  = []\n",
    "running_loss = 0\n",
    "for epoch in range(epochs):\n",
    "    for batchnum, minibatch in enumerate(train_dataset):\n",
    "        # Zero out the previous gradients\n",
    "        optim.zero_grad()\n",
    "        names, languages = minibatch[\"name\"], minibatch[\"language\"]\n",
    "        # Create the data tensors to be used\n",
    "        input_tensor = lines2tensor(names)\n",
    "        target_tensor = cats2index_tensor(languages)\n",
    "        output = net(input_tensor)\n",
    "        loss = criterion(output, target_tensor)\n",
    "        # Minibatch optimization\n",
    "        loss.backward()\n",
    "        \n",
    "        running_loss += loss\n",
    "        # Print every 100 batches\n",
    "        if batchnum % 100 == 99:\n",
    "            losses.append(running_loss)\n",
    "            print(f\"Epoch: {epoch}; Batch: {batchnum}; Loss: {running_loss/100}\")\n",
    "            running_loss = 0\n",
    "    optim.step()"
   ]
  },
  {
   "cell_type": "code",
   "execution_count": 110,
   "metadata": {},
   "outputs": [
    {
     "name": "stdout",
     "output_type": "stream",
     "text": [
      "Correct: 1881/4015, 0\n",
      "Wrong: 2134/4015, 0\n"
     ]
    }
   ],
   "source": [
    "# test out our little network\n",
    "correct, wrong, total = 0, 0, 0\n",
    "for minibatch in test_dataset:\n",
    "    names, languages = minibatch[\"name\"], minibatch[\"language\"]\n",
    "    indata_tensor, target_tensor = lines2tensor(names), cats2index_tensor(languages)\n",
    "    # Raw outputs\n",
    "    output = net(indata_tensor)\n",
    "    output = tensor2index_tensor(output)\n",
    "    total += len(names)\n",
    "    correct += (output == target_tensor).sum()\n",
    "    wrong += (output != target_tensor).sum()\n",
    "\n",
    "print(f\"Correct: {correct}/{total}, {correct/total}\")\n",
    "print(f\"Wrong: {wrong}/{total}, {wrong/total}\")\n",
    "    "
   ]
  },
  {
   "cell_type": "code",
   "execution_count": 109,
   "metadata": {},
   "outputs": [
    {
     "data": {
      "text/plain": [
       "[<matplotlib.lines.Line2D at 0x224c5d57588>]"
      ]
     },
     "execution_count": 109,
     "metadata": {},
     "output_type": "execute_result"
    },
    {
     "data": {
      "image/png": "[encoded data removed]",
      "text/plain": [
       "<Figure size 432x288 with 1 Axes>"
      ]
     },
     "metadata": {},
     "output_type": "display_data"
    }
   ],
   "source": [
    "import matplotlib.pyplot as plt\n",
    "plt.plot(losses)"
   ]
  },
  {
   "cell_type": "code",
   "execution_count": 104,
   "metadata": {},
   "outputs": [
    {
     "name": "stdout",
     "output_type": "stream",
     "text": [
      "502\n"
     ]
    }
   ],
   "source": []
  },
  {
   "cell_type": "code",
   "execution_count": null,
   "metadata": {},
   "outputs": [],
   "source": []
  }
 ],
 "metadata": {
  "kernelspec": {
   "display_name": "Python [conda env:pytorch]",
   "language": "python",
   "name": "conda-env-pytorch-py"
  },
  "language_info": {
   "codemirror_mode": {
    "name": "ipython",
    "version": 3
   },
   "file_extension": ".py",
   "mimetype": "text/x-python",
   "name": "python",
   "nbconvert_exporter": "python",
   "pygments_lexer": "ipython3",
   "version": "3.6.5"
  }
 },
 "nbformat": 4,
 "nbformat_minor": 2
}
