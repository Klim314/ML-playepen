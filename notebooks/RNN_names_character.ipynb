{
 "cells": [
  {
   "cell_type": "code",
   "execution_count": 15,
   "metadata": {},
   "outputs": [],
   "source": [
    "import torch\n",
    "from torch import nn\n",
    "import torch.nn.functional as F\n",
    "from torch.utils.data import Dataset, DataLoader\n",
    "\n",
    "import random\n",
    "import os\n",
    "import unicodedata\n",
    "import string\n",
    "\n",
    "data_path = \"../data/names\""
   ]
  },
  {
   "cell_type": "code",
   "execution_count": 12,
   "metadata": {},
   "outputs": [],
   "source": [
    "all_letters = string.ascii_letters + \" .,;\"\n",
    "\n",
    "def unicode2ascii(s):\n",
    "    # Converts a unicode string to an ascii string\n",
    "    return \"\".join(char for char in unicodedata.normalize(\"NFD\", s)\n",
    "                   if unicodedata.category(char) != \"Mn\"\n",
    "                   and char in all_letters)"
   ]
  },
  {
   "cell_type": "code",
   "execution_count": 51,
   "metadata": {},
   "outputs": [
    {
     "name": "stdout",
     "output_type": "stream",
     "text": [
      "20074 16059 4015\n",
      "[{'name': 'janimov', 'language': 'russian'}, {'name': 'adrol', 'language': 'english'}, {'name': 'jahno', 'language': 'russian'}, {'name': 'binnington', 'language': 'english'}, {'name': 'tikhin', 'language': 'russian'}] [{'name': 'andryuhin', 'language': 'russian'}, {'name': 'fadeechev', 'language': 'russian'}, {'name': 'ukhabin', 'language': 'russian'}, {'name': 'danisevich', 'language': 'russian'}, {'name': 'tallett', 'language': 'english'}]\n"
     ]
    }
   ],
   "source": [
    "# Load data\n",
    "# Random seed\n",
    "random.seed(1235)\n",
    "# Load raw data directly\n",
    "n_languages = len(os.listdir(data_path))\n",
    "names = []\n",
    "categories = set()\n",
    "for i in os.listdir(data_path):\n",
    "    language, ext = os.path.splitext(i)\n",
    "    language = language.lower()\n",
    "    with open(os.path.join(data_path, i), encoding=\"utf-8\") as f:\n",
    "        for i in f:\n",
    "            names.append({\"name\": i.lower().strip(),\n",
    "                          \"language\": language})\n",
    "    categories.add(language)\n",
    "# make categories indexable\n",
    "categories = list(categories)\n",
    "\n",
    "# Clean all names by converting to ascii\n",
    "for namedict in names:\n",
    "    namedict[\"name\"] = unicode2ascii(namedict[\"name\"])\n",
    "    \n",
    "# split the data into train and test\n",
    "random.shuffle(names)\n",
    "# 80/20 train test split\n",
    "total = len(names)\n",
    "trainsplit = 0.8\n",
    "point = int(total * trainsplit)\n",
    "train_data, test_data = names[:point], names[point:]\n",
    "print(total, len(train_data), len(test_data))\n",
    "print(train_data[:5], test_data[:5])"
   ]
  },
  {
   "cell_type": "code",
   "execution_count": 26,
   "metadata": {},
   "outputs": [],
   "source": [
    "# Create datasets\n",
    "class NameDataset(Dataset):\n",
    "    def __init__(self, data):\n",
    "        super().__init__()\n",
    "        self.data = data\n",
    "\n",
    "    def __len__(self):\n",
    "        return len(self.data)\n",
    "\n",
    "    def __getitem__(self, x):\n",
    "        return self.data[x]\n",
    "    \n",
    "train_dataset = NameDataset(train_data)\n",
    "test_dataset = NameDataset(test_data)\n",
    "train_dataset = DataLoader(batch_size=32, shuffle=True, dataset=train_dataset)\n",
    "test_dataset = DataLoader(batch_size=32, shuffle=True, dataset=test_dataset)"
   ]
  },
  {
   "cell_type": "code",
   "execution_count": 31,
   "metadata": {},
   "outputs": [
    {
     "name": "stdout",
     "output_type": "stream",
     "text": [
      "tensor([[[ 1.,  0.,  0.,  0.,  0.,  0.,  0.,  0.,  0.,  0.,  0.,\n",
      "           0.,  0.,  0.,  0.,  0.,  0.,  0.,  0.,  0.,  0.,  0.,\n",
      "           0.,  0.,  0.,  0.,  0.,  0.,  0.,  0.,  0.,  0.,  0.,\n",
      "           0.,  0.,  0.,  0.,  0.,  0.,  0.,  0.,  0.,  0.,  0.,\n",
      "           0.,  0.,  0.,  0.,  0.,  0.,  0.,  0.,  0.,  0.,  0.,\n",
      "           0.]],\n",
      "\n",
      "        [[ 0.,  1.,  0.,  0.,  0.,  0.,  0.,  0.,  0.,  0.,  0.,\n",
      "           0.,  0.,  0.,  0.,  0.,  0.,  0.,  0.,  0.,  0.,  0.,\n",
      "           0.,  0.,  0.,  0.,  0.,  0.,  0.,  0.,  0.,  0.,  0.,\n",
      "           0.,  0.,  0.,  0.,  0.,  0.,  0.,  0.,  0.,  0.,  0.,\n",
      "           0.,  0.,  0.,  0.,  0.,  0.,  0.,  0.,  0.,  0.,  0.,\n",
      "           0.]],\n",
      "\n",
      "        [[ 0.,  0.,  0.,  1.,  0.,  0.,  0.,  0.,  0.,  0.,  0.,\n",
      "           0.,  0.,  0.,  0.,  0.,  0.,  0.,  0.,  0.,  0.,  0.,\n",
      "           0.,  0.,  0.,  0.,  0.,  0.,  0.,  0.,  0.,  0.,  0.,\n",
      "           0.,  0.,  0.,  0.,  0.,  0.,  0.,  0.,  0.,  0.,  0.,\n",
      "           0.,  0.,  0.,  0.,  0.,  0.,  0.,  0.,  0.,  0.,  0.,\n",
      "           0.]]])\n"
     ]
    }
   ],
   "source": [
    "#Data cleaning functions\n",
    "def letter2index(l):\n",
    "    return all_letters.find(l)\n",
    "\n",
    "# Turn an \n",
    "def line2tensor(line):\n",
    "    \"\"\"\n",
    "    @args\n",
    "        line (str): Line to be converted to tensor form\n",
    "    @returns:\n",
    "        line_length x 1 x n_letters tensor containing one hot encodings\n",
    "    \"\"\"\n",
    "    tensor = torch.zeros(len(line), 1, len(all_letters))\n",
    "    for li, letter in enumerate(line):\n",
    "        tensor[li][0][letter2index(letter)] = 1\n",
    "    return tensor\n",
    "\n",
    "print(line2tensor(\"abd\"))\n",
    "        \n",
    "        \n",
    "    "
   ]
  },
  {
   "cell_type": "code",
   "execution_count": 122,
   "metadata": {},
   "outputs": [],
   "source": [
    "# Define the Neural network\n",
    "class RNN(nn.Module):\n",
    "    def __init__(self, input_size, hidden_size, output_size):\n",
    "        super().__init__()\n",
    "        self.hidden_size = hidden_size\n",
    "        self.i2h = nn.Linear(input_size + hidden_size, hidden_size)\n",
    "        self.h2o = nn.Linear(hidden_size, output_size)\n",
    "        \n",
    "    def forward(self, x, hidden):\n",
    "        # Concatenate the input and previous hidden layers together to create a n, 1, input + hidden tensor\n",
    "        combined = torch.cat((x, hidden), 1)\n",
    "        hidden = self.i2h(combined)\n",
    "        output = self.h2o(hidden)\n",
    "#         output = F.softmax(output, dim=1)\n",
    "        return (output, hidden)\n",
    "        \n",
    "    def init_hidden(self):\n",
    "        return torch.zeros(1, self.hidden_size)\n"
   ]
  },
  {
   "cell_type": "code",
   "execution_count": 123,
   "metadata": {},
   "outputs": [
    {
     "name": "stdout",
     "output_type": "stream",
     "text": [
      "torch.Size([1, 128])\n",
      "torch.Size([1, 56])\n"
     ]
    }
   ],
   "source": [
    "# Test out the basic network\n",
    "hidden = net.init_hidden()\n",
    "print(hidden.shape)\n",
    "linedata = line2tensor(\"abc\")\n",
    "indata = linedata[1]\n",
    "print(indata.shape)\n",
    "output, new_hidden = net(indata, hidden)"
   ]
  },
  {
   "cell_type": "code",
   "execution_count": null,
   "metadata": {},
   "outputs": [],
   "source": []
  },
  {
   "cell_type": "code",
   "execution_count": 124,
   "metadata": {},
   "outputs": [
    {
     "name": "stdout",
     "output_type": "stream",
     "text": [
      "tensor(1.00000e-02 *\n",
      "       [[-2.9854,  5.3340,  5.8588,  0.1112, -9.8997, -2.8244, -9.8819,\n",
      "         -3.0498,  8.1527, -4.8251, -9.2800,  0.8267, -9.0344, -0.8668,\n",
      "         -3.2489,  5.5837,  5.9199, -6.4046]]) torch.Size([1, 18])\n",
      "torch.float32\n",
      "tensor([ 8.,  8.,  8.])\n",
      "7\n",
      "tensor([ 7])\n"
     ]
    },
    {
     "data": {
      "text/plain": [
       "tensor(2.9056)"
      ]
     },
     "execution_count": 124,
     "metadata": {},
     "output_type": "execute_result"
    }
   ],
   "source": [
    "def get_cat(output):\n",
    "    val, index = output.max(dim=1)\n",
    "    index = index.item()\n",
    "    return categories[index], index\n",
    "\n",
    "def get_cat_tensor(outputs):\n",
    "    holder = [get_cat(output)[1] for output in outputs]\n",
    "#     print(holder)\n",
    "    return torch.Tensor(holder)\n",
    "\n",
    "def cat2index(cat):\n",
    "    return categories.index(cat)\n",
    "\n",
    "def cat2tensor(cat):\n",
    "    dat = [cat2index(cat)]\n",
    "    return torch.tensor(dat, dtype=torch.long)\n",
    "\n",
    "print(output, output.shape)\n",
    "print(output.dtype)\n",
    "# print(get_cat(output))\n",
    "print(get_cat_tensor([output for i in range(3)]))\n",
    "print(cat2index(\"portuguese\"))\n",
    "print(cat2tensor(\"portuguese\"))\n",
    "# Note: Cross Entropy log does the log_softmax then a NLLoss. \n",
    "# Expects input of raw output values, target of just the expected index\n",
    "criterion(output, cat2tensor(\"portuguese\"))"
   ]
  },
  {
   "cell_type": "code",
   "execution_count": null,
   "metadata": {},
   "outputs": [],
   "source": []
  },
  {
   "cell_type": "code",
   "execution_count": 144,
   "metadata": {},
   "outputs": [
    {
     "name": "stdout",
     "output_type": "stream",
     "text": [
      "EPOCH 1; running_loss: 0\n",
      "EPOCH 2; running_loss: 30082.548828125\n",
      "EPOCH 3; running_loss: 34311.671875\n",
      "EPOCH 4; running_loss: 32859.1484375\n",
      "EPOCH 5; running_loss: 27458.6875\n",
      "EPOCH 6; running_loss: 42388.74609375\n",
      "EPOCH 7; running_loss: 27370.205078125\n",
      "EPOCH 8; running_loss: 30177.33203125\n",
      "EPOCH 9; running_loss: 32153.3671875\n",
      "EPOCH 10; running_loss: 32510.263671875\n"
     ]
    }
   ],
   "source": [
    "hidden_size = 128\n",
    "input_size = len(all_letters)\n",
    "output_size = n_languages\n",
    "net = RNN(input_size, hidden_size, output_size)\n",
    "criterion = nn.CrossEntropyLoss()\n",
    "optim = torch.optim.Adam(net.parameters(), lr=0.005)\n",
    "\n",
    "epochs = 10\n",
    "# losses  = []\n",
    "running_loss = 0\n",
    "for epoch in range(epochs):\n",
    "    print(f\"EPOCH {epoch + 1}; running_loss: {running_loss}\")\n",
    "    running_loss = 0\n",
    "    \n",
    "    for minibatch in train_dataset:\n",
    "        optim.zero_grad()\n",
    "        names, languages = minibatch[\"name\"], minibatch[\"language\"]\n",
    "\n",
    "        for name, category in zip(names, languages):\n",
    "            # reinitialize initial hidden layer\n",
    "            hidden = net.init_hidden()\n",
    "            name_tensor = line2tensor(name)\n",
    "            for index, char in enumerate(name_tensor):\n",
    "                output, hidden = net(char, hidden)\n",
    "            loss = criterion(output, cat2tensor(category))\n",
    "            running_loss += loss\n",
    "            loss.backward()\n",
    "    losses.append(running_loss)\n",
    "    optim.step()"
   ]
  },
  {
   "cell_type": "code",
   "execution_count": 145,
   "metadata": {},
   "outputs": [
    {
     "name": "stdout",
     "output_type": "stream",
     "text": [
      "Correct: 2241/4015, 0.5581569115815691\n",
      "Wrong: 1774/4015, 0.4418430884184309\n"
     ]
    }
   ],
   "source": [
    "# test out our little network\n",
    "correct, wrong, total = 0, 0, 0\n",
    "for minibatch in test_dataset:\n",
    "    names, languages = minibatch[\"name\"], minibatch[\"language\"]\n",
    "    for name, category in zip(names, languages):\n",
    "        hidden = net.init_hidden()\n",
    "        name_tensor = line2tensor(name)\n",
    "        for index, char in enumerate(name_tensor):\n",
    "            output, hidden = net(char, hidden)\n",
    "        vals = F.softmax(output, dim=-1)\n",
    "        val, res = torch.max(vals, dim=1)\n",
    "        res = res.item()\n",
    "        total += 1\n",
    "        if cat2index(category) == res:\n",
    "            correct += 1\n",
    "        else:\n",
    "            wrong += 1\n",
    "\n",
    "print(f\"Correct: {correct}/{total}, {correct/total}\")\n",
    "print(f\"Wrong: {wrong}/{total}, {wrong/total}\")\n",
    "    "
   ]
  },
  {
   "cell_type": "code",
   "execution_count": 146,
   "metadata": {},
   "outputs": [
    {
     "data": {
      "text/plain": [
       "[<matplotlib.lines.Line2D at 0x293760f3048>]"
      ]
     },
     "execution_count": 146,
     "metadata": {},
     "output_type": "execute_result"
    },
    {
     "data": {
      "image/png": "[encoded data removed]",
      "text/plain": [
       "<Figure size 432x288 with 1 Axes>"
      ]
     },
     "metadata": {},
     "output_type": "display_data"
    }
   ],
   "source": [
    "import matplotlib.pyplot as plt\n",
    "plt.plot(losses)"
   ]
  },
  {
   "cell_type": "code",
   "execution_count": null,
   "metadata": {},
   "outputs": [],
   "source": [
    "test_"
   ]
  }
 ],
 "metadata": {
  "kernelspec": {
   "display_name": "Python [conda env:pytorch]",
   "language": "python",
   "name": "conda-env-pytorch-py"
  },
  "language_info": {
   "codemirror_mode": {
    "name": "ipython",
    "version": 3
   },
   "file_extension": ".py",
   "mimetype": "text/x-python",
   "name": "python",
   "nbconvert_exporter": "python",
   "pygments_lexer": "ipython3",
   "version": "3.6.5"
  }
 },
 "nbformat": 4,
 "nbformat_minor": 2
}
