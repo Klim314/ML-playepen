{
 "cells": [
  {
   "cell_type": "markdown",
   "metadata": {},
   "source": [
    "**Overview**\n",
    "\n",
    "Machine learning for NLP practice\n",
    "\n",
    "- Learning of word embeddings (based off pytorch tutorials)"
   ]
  },
  {
   "cell_type": "code",
   "execution_count": null,
   "metadata": {},
   "outputs": [],
   "source": []
  },
  {
   "cell_type": "code",
   "execution_count": 170,
   "metadata": {},
   "outputs": [],
   "source": [
    "import torch.nn as nn\n",
    "import torch\n",
    "import torch.nn.functional as F\n",
    "from torch.optim import SGD, Adam\n",
    "\n",
    "import os\n",
    "import numpy as np\n",
    "import matplotlib.pyplot as plt\n",
    "\n",
    "from sklearn.manifold import TSNE"
   ]
  },
  {
   "cell_type": "code",
   "execution_count": 5,
   "metadata": {},
   "outputs": [],
   "source": [
    "data_dir = \"../data\""
   ]
  },
  {
   "cell_type": "code",
   "execution_count": 133,
   "metadata": {},
   "outputs": [
    {
     "name": "stdout",
     "output_type": "stream",
     "text": [
      "tensor([[ 0.5314, -0.9057,  0.3006,  1.6123,  0.5813]])\n",
      "tensor([ 0,  0,  1])\n",
      "tensor([[[ 0.5314, -0.9057,  0.3006,  1.6123,  0.5813],\n",
      "         [ 0.5314, -0.9057,  0.3006,  1.6123,  0.5813],\n",
      "         [-1.3972, -0.9226,  0.2923,  1.1563, -0.8777]]])\n"
     ]
    }
   ],
   "source": [
    "# Quick runthrough of how to use the nn.Embedding class to create an embedding for a limited vocab\n",
    "# Establish a vocabulary, giving each word a specific index in your embedding\n",
    "vocab = {\"hello\": 0, \"world\": 1}\n",
    "# For each (2) word, create a n (10) dimensional embedding for it initialized with random balues\n",
    "embed = nn.Embedding(2, 5) \n",
    "# Use torch.long (int64) as the indicies for the tensors are integers (smaller is probably fine too)\n",
    "lookup_tensor = torch.tensor([vocab[\"hello\"]], dtype=torch.long)\n",
    "hello_embeds = embed(lookup_tensor)\n",
    "print(hello_embeds)\n",
    "# This works with longer word lookups too\n",
    "t = torch.tensor([vocab[\"hello\"], vocab[\"hello\"], vocab[\"world\"]], dtype=torch.long)\n",
    "print(t)\n",
    "print(embed(t.view(1, -1)))"
   ]
  },
  {
   "cell_type": "code",
   "execution_count": 134,
   "metadata": {},
   "outputs": [
    {
     "name": "stdout",
     "output_type": "stream",
     "text": [
      "[('when', 'forty', 'winters'), ('shall', 'besiege', 'thy'), ('brow,', 'and', 'dig'), ('deep', 'trenches', 'in')]\n",
      "Vocab is of length 90\n"
     ]
    }
   ],
   "source": [
    "# Size of the context (the 2-gram used to predict the third)\n",
    "context_size = 2\n",
    "\n",
    "embed_dim = 10\n",
    "\n",
    "test_sentence = \"\"\"When forty winters shall besiege thy brow,\n",
    "And dig deep trenches in thy beauty's field,\n",
    "Thy youth's proud livery so gazed on now,\n",
    "Will be a totter'd weed of small worth held:\n",
    "Then being asked, where all thy beauty lies,\n",
    "Where all the treasure of thy lusty days;\n",
    "To say, within thine own deep sunken eyes,\n",
    "Were an all-eating shame, and thriftless praise.\n",
    "How much more praise deserv'd thy beauty's use,\n",
    "If thou couldst answer 'This fair child of mine\n",
    "Shall sum my count, and make my old excuse,'\n",
    "Proving his beauty by succession thine!\n",
    "This were to be new made when thou art old,\n",
    "And see thy blood warm when thou feel'st it cold.\"\"\".lower().split()\n",
    "\n",
    "# Compute trigrams for the entire sentence\n",
    "trigrams = [(test_sentence[i], test_sentence[i + 1], test_sentence[i + 2]) for i in range(0, \n",
    "                                                                                          len(test_sentence) - 2,\n",
    "                                                                                          3)]\n",
    "print(trigrams[0:4])\n",
    "vocab = {i: num for num, i in enumerate(set(test_sentence))}\n",
    "print(f\"Vocab is of length {len(vocab)}\")"
   ]
  },
  {
   "cell_type": "code",
   "execution_count": 135,
   "metadata": {},
   "outputs": [],
   "source": [
    "class NGramModeler(nn.Module):\n",
    "    def __init__(self, vocab_size, embed_dim, context_size):\n",
    "        super().__init__()\n",
    "        self.embeddings = nn.Embedding(vocab_size, embed_dim)\n",
    "        self.l1 = nn.Linear(context_size * embed_dim, 128)\n",
    "        self.l2 = nn.Linear(128, vocab_size)\n",
    "        \n",
    "    def forward(self, x):\n",
    "        # Input x is a tensor of ordered indices to our embeddings\n",
    "        x = self.embeddings(x)\n",
    "        # Convert from 2d structure to 1d for linear layer\n",
    "        x = x.view(-1, 20)\n",
    "        x = F.relu(self.l1(x))\n",
    "        x = self.l2(x)\n",
    "        return x"
   ]
  },
  {
   "cell_type": "code",
   "execution_count": 138,
   "metadata": {},
   "outputs": [
    {
     "name": "stdout",
     "output_type": "stream",
     "text": [
      "tensor([[ 0.3606,  0.6116, -0.1506,  0.1175, -0.0736, -0.1801,  0.0815,\n",
      "         -0.2727,  0.1266, -0.2601,  0.1236, -0.1916,  0.2747, -0.1771,\n",
      "          0.1925, -0.2535, -0.1271,  0.0880, -0.4069,  0.5038,  0.0720,\n",
      "          0.1127,  0.1776,  0.2393,  0.1534,  0.1786, -0.3929,  0.3150,\n",
      "         -0.1845, -0.5183,  0.2326,  0.1481,  0.1841, -0.3688, -0.2352,\n",
      "         -0.1185,  0.6948,  0.0108, -0.3021,  0.0348,  0.0219,  0.0603,\n",
      "          0.1877, -0.5062,  0.0756, -0.4086,  0.2042,  0.2249,  0.0635,\n",
      "         -0.0055, -0.2491,  0.1649,  0.3020,  0.0762, -0.0708, -0.3402,\n",
      "          0.0835, -0.1662,  0.1646,  0.1887, -0.1756, -0.0146,  0.1595,\n",
      "         -0.1558, -0.2326, -0.0799,  0.0873, -0.1419, -0.3294,  0.3439,\n",
      "          0.4157,  0.0853, -0.3919,  0.0122, -0.1163, -0.1397, -0.2756,\n",
      "         -0.0628, -0.0742, -0.2619, -0.2273,  0.2702,  0.1497, -0.0106,\n",
      "          0.0790, -0.0687, -0.0016, -0.3414,  0.4049, -0.1857]]) tensor([ 53])\n"
     ]
    },
    {
     "ename": "RuntimeError",
     "evalue": "No active exception to reraise",
     "output_type": "error",
     "traceback": [
      "\u001b[1;31m---------------------------------------------------------------------------\u001b[0m",
      "\u001b[1;31mRuntimeError\u001b[0m                              Traceback (most recent call last)",
      "\u001b[1;32m<ipython-input-138-4c164079b607>\u001b[0m in \u001b[0;36m<module>\u001b[1;34m()\u001b[0m\n\u001b[0;32m     16\u001b[0m         \u001b[0mr\u001b[0m \u001b[1;33m=\u001b[0m \u001b[0mnet\u001b[0m\u001b[1;33m(\u001b[0m\u001b[0mcontext_idxs\u001b[0m\u001b[1;33m)\u001b[0m\u001b[1;33m\u001b[0m\u001b[0m\n\u001b[0;32m     17\u001b[0m         \u001b[0mprint\u001b[0m\u001b[1;33m(\u001b[0m\u001b[0mr\u001b[0m\u001b[1;33m,\u001b[0m \u001b[0mideal_idxs\u001b[0m\u001b[1;33m)\u001b[0m\u001b[1;33m\u001b[0m\u001b[0m\n\u001b[1;32m---> 18\u001b[1;33m         \u001b[1;32mraise\u001b[0m\u001b[1;33m\u001b[0m\u001b[0m\n\u001b[0m\u001b[0;32m     19\u001b[0m         \u001b[0mloss\u001b[0m \u001b[1;33m=\u001b[0m \u001b[0mcriterion\u001b[0m\u001b[1;33m(\u001b[0m\u001b[0mr\u001b[0m\u001b[1;33m,\u001b[0m \u001b[0mideal_idxs\u001b[0m\u001b[1;33m)\u001b[0m\u001b[1;33m\u001b[0m\u001b[0m\n\u001b[0;32m     20\u001b[0m         \u001b[0mloss\u001b[0m\u001b[1;33m.\u001b[0m\u001b[0mbackward\u001b[0m\u001b[1;33m(\u001b[0m\u001b[1;33m)\u001b[0m\u001b[1;33m\u001b[0m\u001b[0m\n",
      "\u001b[1;31mRuntimeError\u001b[0m: No active exception to reraise"
     ]
    }
   ],
   "source": [
    "epochs = 100\n",
    "net = NGramModeler(len(vocab), embed_dim, context_size)\n",
    "# Note: Softmax is baked into the CEL. Don't add another softmax layer\n",
    "criterion = nn.CrossEntropyLoss()\n",
    "optim = SGD(net.parameters(), lr=0.005)\n",
    "losses = []\n",
    "for epoch in range(epochs):\n",
    "    total_loss = 0\n",
    "    for t1, t2, i in trigrams:\n",
    "        # Prepare the input and test tensors\n",
    "        context = (t1, t2)\n",
    "        context_idxs = torch.tensor([[vocab[word] for word in context]], dtype=torch.long)\n",
    "        ideal_idxs = torch.tensor([vocab[i]], dtype=torch.long)\n",
    "        # Remove accumulated gradients\n",
    "        optim.zero_grad()\n",
    "        r = net(context_idxs)\n",
    "        loss = criterion(r, ideal_idxs)\n",
    "        loss.backward()\n",
    "        optim.step()\n",
    "        total_loss += loss.item()\n",
    "    losses.append(total_loss)\n",
    "for i in losses:\n",
    "    print(f\"{i:.4f}\")"
   ]
  },
  {
   "cell_type": "code",
   "execution_count": 139,
   "metadata": {},
   "outputs": [],
   "source": [
    "reverse_vocab = {num: word for word, num in vocab.items()}"
   ]
  },
  {
   "cell_type": "code",
   "execution_count": null,
   "metadata": {},
   "outputs": [],
   "source": [
    "# Show that the training set was fit \n",
    "total = 0\n",
    "errors = 0\n",
    "input_vector = torch.tensor\n",
    "for t1, t2, i in trigrams[:10]:\n",
    "    # Prepare the input and test tensors\n",
    "    context = (t1, t2)\n",
    "    context_idxs = torch.tensor([[vocab[word] for word in context]], dtype=torch.long)\n",
    "    res = F.softmax(net(context_idxs))\n",
    "    print(res)\n",
    "    val, index = torch.max(res, 0)\n",
    "    index = index.item()\n",
    "    print(i, reverse_vocab[index])"
   ]
  },
  {
   "cell_type": "code",
   "execution_count": 115,
   "metadata": {},
   "outputs": [
    {
     "name": "stdout",
     "output_type": "stream",
     "text": [
      "[('when', 'forty', 'winters'), ('shall', 'besiege', 'thy')]\n",
      "Expected: winters, got: winters\n",
      "Expected: thy, got: thy\n"
     ]
    },
    {
     "name": "stderr",
     "output_type": "stream",
     "text": [
      "C:\\Users\\h\\AppData\\Local\\conda\\conda\\envs\\pytorch\\lib\\site-packages\\ipykernel\\__main__.py:5: UserWarning: Implicit dimension choice for softmax has been deprecated. Change the call to include dim=X as an argument.\n"
     ]
    }
   ],
   "source": [
    "indata = [(vocab[i[0]], vocab[i[1]]) for i in trigrams[:2]]\n",
    "print(trigrams[:2])\n",
    "\n",
    "t = torch.tensor(indata[:2], dtype=torch.long)\n",
    "vals, indices = torch.max(F.softmax(net(t)), 1)\n",
    "for index, (t1, t2, ideal) in zip(indices, trigrams[:2]):\n",
    "    print(f\"Expected: {ideal}, got: {reverse_vocab[index.item()]}\")\n",
    "# print(t)\n",
    "# e = net.embeddings(t)\n",
    "# print(e)\n",
    "# e = e.view(-1, 2 * embed_dim)\n",
    "# print(e)\n",
    "# print(e.shape)\n",
    "# net.l1(e)"
   ]
  },
  {
   "cell_type": "code",
   "execution_count": 124,
   "metadata": {},
   "outputs": [
    {
     "name": "stdout",
     "output_type": "stream",
     "text": [
      "tensor([[-1.6936,  0.3130, -0.8321,  0.2499, -0.7003,  1.6888,  0.7946,\n",
      "          1.2885, -0.4448,  0.1563],\n",
      "        [-0.1937, -1.4294, -1.5171, -1.0318,  0.0356,  1.0939, -2.3710,\n",
      "          0.8877,  0.2476,  0.4513]])\n"
     ]
    },
    {
     "data": {
      "text/plain": [
       "tensor([[-1.8873, -1.1165, -2.3492, -0.7820, -0.6646,  2.7827, -1.5764,\n",
       "          2.1762, -0.1972,  0.6076]])"
      ]
     },
     "execution_count": 124,
     "metadata": {},
     "output_type": "execute_result"
    }
   ],
   "source": [
    "\n",
    "\n",
    "t1, t2, i = trigrams[10]\n",
    "context = (t1, t2)\n",
    "context_idxs = torch.tensor([vocab[word] for word in context], dtype=torch.long)\n",
    "context_idxs\n",
    "\n",
    "print(net.embeddings(context_idxs))\n",
    "net.embeddings(context_idxs).view(-1, 2, 10).sum(dim=1)"
   ]
  },
  {
   "cell_type": "code",
   "execution_count": 34,
   "metadata": {},
   "outputs": [
    {
     "ename": "ValueError",
     "evalue": "too many values to unpack (expected 2)",
     "output_type": "error",
     "traceback": [
      "\u001b[1;31m---------------------------------------------------------------------------\u001b[0m",
      "\u001b[1;31mValueError\u001b[0m                                Traceback (most recent call last)",
      "\u001b[1;32m<ipython-input-34-ee027e6b71bf>\u001b[0m in \u001b[0;36m<module>\u001b[1;34m()\u001b[0m\n\u001b[0;32m      1\u001b[0m \u001b[0ma\u001b[0m \u001b[1;33m=\u001b[0m \u001b[1;33m[\u001b[0m\u001b[1;33m(\u001b[0m\u001b[1;36m1\u001b[0m\u001b[1;33m,\u001b[0m \u001b[1;36m2\u001b[0m\u001b[1;33m,\u001b[0m \u001b[1;36m3\u001b[0m\u001b[1;33m)\u001b[0m \u001b[1;32mfor\u001b[0m \u001b[0mi\u001b[0m \u001b[1;32min\u001b[0m \u001b[0mrange\u001b[0m\u001b[1;33m(\u001b[0m\u001b[1;36m4\u001b[0m\u001b[1;33m)\u001b[0m\u001b[1;33m]\u001b[0m\u001b[1;33m\u001b[0m\u001b[0m\n\u001b[1;32m----> 2\u001b[1;33m \u001b[0mprint\u001b[0m\u001b[1;33m(\u001b[0m\u001b[1;33m[\u001b[0m\u001b[1;33m[\u001b[0m\u001b[1;33m*\u001b[0m\u001b[0ma\u001b[0m\u001b[1;33m,\u001b[0m \u001b[0mb\u001b[0m\u001b[1;33m]\u001b[0m \u001b[1;32mfor\u001b[0m \u001b[0ma\u001b[0m\u001b[1;33m,\u001b[0m \u001b[0mb\u001b[0m \u001b[1;32min\u001b[0m \u001b[0ma\u001b[0m\u001b[1;33m]\u001b[0m\u001b[1;33m)\u001b[0m\u001b[1;33m\u001b[0m\u001b[0m\n\u001b[0m",
      "\u001b[1;32m<ipython-input-34-ee027e6b71bf>\u001b[0m in \u001b[0;36m<listcomp>\u001b[1;34m(.0)\u001b[0m\n\u001b[0;32m      1\u001b[0m \u001b[0ma\u001b[0m \u001b[1;33m=\u001b[0m \u001b[1;33m[\u001b[0m\u001b[1;33m(\u001b[0m\u001b[1;36m1\u001b[0m\u001b[1;33m,\u001b[0m \u001b[1;36m2\u001b[0m\u001b[1;33m,\u001b[0m \u001b[1;36m3\u001b[0m\u001b[1;33m)\u001b[0m \u001b[1;32mfor\u001b[0m \u001b[0mi\u001b[0m \u001b[1;32min\u001b[0m \u001b[0mrange\u001b[0m\u001b[1;33m(\u001b[0m\u001b[1;36m4\u001b[0m\u001b[1;33m)\u001b[0m\u001b[1;33m]\u001b[0m\u001b[1;33m\u001b[0m\u001b[0m\n\u001b[1;32m----> 2\u001b[1;33m \u001b[0mprint\u001b[0m\u001b[1;33m(\u001b[0m\u001b[1;33m[\u001b[0m\u001b[1;33m[\u001b[0m\u001b[1;33m*\u001b[0m\u001b[0ma\u001b[0m\u001b[1;33m,\u001b[0m \u001b[0mb\u001b[0m\u001b[1;33m]\u001b[0m \u001b[1;32mfor\u001b[0m \u001b[0ma\u001b[0m\u001b[1;33m,\u001b[0m \u001b[0mb\u001b[0m \u001b[1;32min\u001b[0m \u001b[0ma\u001b[0m\u001b[1;33m]\u001b[0m\u001b[1;33m)\u001b[0m\u001b[1;33m\u001b[0m\u001b[0m\n\u001b[0m",
      "\u001b[1;31mValueError\u001b[0m: too many values to unpack (expected 2)"
     ]
    }
   ],
   "source": []
  },
  {
   "cell_type": "code",
   "execution_count": 26,
   "metadata": {},
   "outputs": [
    {
     "name": "stdout",
     "output_type": "stream",
     "text": [
      "tensor([[[  0.,   1.],\n",
      "         [  2.,   3.],\n",
      "         [  4.,   5.]],\n",
      "\n",
      "        [[  6.,   7.],\n",
      "         [  8.,   9.],\n",
      "         [ 10.,  11.]],\n",
      "\n",
      "        [[ 12.,  13.],\n",
      "         [ 14.,  15.],\n",
      "         [ 16.,  17.]],\n",
      "\n",
      "        [[ 18.,  19.],\n",
      "         [ 20.,  21.],\n",
      "         [ 22.,  23.]]])\n",
      "tensor([  0.,   1.,   2.,   3.,   4.,   5.,   6.,   7.,   8.,   9.,\n",
      "         10.,  11.,  12.,  13.,  14.,  15.,  16.,  17.,  18.,  19.,\n",
      "         20.,  21.,  22.,  23.])\n"
     ]
    }
   ],
   "source": [
    "a = torch.Tensor(list(range(24)))\n",
    "print(a.view(-1, 3, 2))\n",
    "print(a.view(-1, 3, 2).view(-1))"
   ]
  },
  {
   "cell_type": "markdown",
   "metadata": {},
   "source": [
    "**Bag of words model**"
   ]
  },
  {
   "cell_type": "code",
   "execution_count": 146,
   "metadata": {
    "scrolled": true
   },
   "outputs": [
    {
     "name": "stdout",
     "output_type": "stream",
     "text": [
      "[(['We', 'are', 'to', 'study'], 'about'), (['are', 'about', 'study', 'the'], 'to'), (['about', 'to', 'the', 'idea'], 'study'), (['to', 'study', 'idea', 'of'], 'the'), (['study', 'the', 'of', 'a'], 'idea')]\n",
      "235.06018900871277\n",
      "197.16198062896729\n",
      "170.28847336769104\n",
      "148.16921374201775\n",
      "129.40116673707962\n",
      "113.04026806354523\n",
      "98.60923334956169\n",
      "85.78385156393051\n",
      "74.42276632785797\n",
      "64.46674011647701\n",
      "55.797726690769196\n",
      "48.336279183626175\n",
      "41.97023555636406\n",
      "36.557565569877625\n",
      "31.946965888142586\n",
      "28.049244225025177\n",
      "24.722156293690205\n",
      "21.88813839107752\n",
      "19.455124586820602\n",
      "17.363011691719294\n",
      "15.554624313488603\n",
      "13.989160234108567\n",
      "12.63008351251483\n",
      "11.457808109000325\n",
      "10.433925556018949\n",
      "9.541058376431465\n",
      "8.762558622285724\n",
      "8.086411471478641\n",
      "7.491235591471195\n",
      "6.964336744509637\n",
      "6.499313586391509\n",
      "6.085830337833613\n",
      "5.715366017539054\n",
      "5.381845075637102\n",
      "5.0813878695480525\n",
      "4.80943167489022\n",
      "4.562669163569808\n",
      "4.336041197180748\n",
      "4.12948216823861\n",
      "3.940782212652266\n"
     ]
    },
    {
     "data": {
      "text/plain": [
       "tensor([ 20,  30,   2,  23])"
      ]
     },
     "execution_count": 146,
     "metadata": {},
     "output_type": "execute_result"
    }
   ],
   "source": [
    "CONTEXT_SIZE = 2  # 2 words to the left, 2 to the right\n",
    "raw_text = \"\"\"We are about to study the idea of a computational process.\n",
    "Computational processes are abstract beings that inhabit computers.\n",
    "As they evolve, processes manipulate other abstract things called data.\n",
    "The evolution of a process is directed by a pattern of rules\n",
    "called a program. People create programs to direct processes. In effect,\n",
    "we conjure the spirits of the computer with our spells.\"\"\".split()\n",
    "\n",
    "# By deriving a set from `raw_text`, we deduplicate the array\n",
    "vocab = set(raw_text)\n",
    "vocab_size = len(vocab)\n",
    "\n",
    "word_to_ix = {word: i for i, word in enumerate(vocab)}\n",
    "ix_to_word = {i: word for i, word in enumerate(vocab)}\n",
    "data = []\n",
    "for i in range(2, len(raw_text) - 2):\n",
    "    context = [raw_text[i - 2], raw_text[i - 1],\n",
    "               raw_text[i + 1], raw_text[i + 2]]\n",
    "    target = raw_text[i]\n",
    "    data.append((context, target))\n",
    "print(data[:5])\n",
    "\n",
    "\n",
    "class CBOW(nn.Module):\n",
    "\n",
    "    def __init__(self, vocab_size, embed_dim, context_size):\n",
    "        super().__init__()\n",
    "        self.embed = nn.Embedding(vocab_size, embed_dim)\n",
    "        self.f1 = nn.Linear(embed_dim, 128)\n",
    "        self.f2 = nn.Linear(128, vocab_size)\n",
    "\n",
    "    def forward(self, x):\n",
    "        # sum the embeddings, removing the order from the data\n",
    "        x = self.embed(x).sum(dim= 1)\n",
    "        x = F.relu(self.f1(x))\n",
    "        x = self.f2(x)\n",
    "        return x\n",
    "\n",
    "cbow = CBOW(vocab_size, 10, 2)\n",
    "optim = SGD(cbow.parameters(), 0.01)\n",
    "criterion = nn.CrossEntropyLoss()\n",
    "# create your model and train.  here are some functions to help you make\n",
    "# the data ready for use by your module\n",
    "EPOCHS = 40\n",
    "for epoch in range(EPOCHS):\n",
    "    total_loss = 0\n",
    "    for context, ideal in data:\n",
    "        context_vector = make_context_vector(context, word_to_ix).view(-1 , 4)\n",
    "        ideal_vector = torch.tensor(word_to_ix[ideal], dtype=torch.long).view(1)\n",
    "        optim.zero_grad()\n",
    "        res = cbow(context_vector)\n",
    "#         print(res)\n",
    "#         print(ideal_vector)\n",
    "        loss = criterion(res, ideal_vector)\n",
    "        loss.backward()\n",
    "        optim.step()\n",
    "        total_loss += loss.item()\n",
    "    print(total_loss)\n",
    "        \n",
    "        \n",
    "    \n",
    "\n",
    "\n",
    "def make_context_vector(context, word_to_ix):\n",
    "    idxs = [word_to_ix[w] for w in context]\n",
    "    return torch.tensor(idxs, dtype=torch.long)\n",
    "\n",
    "\n",
    "make_context_vector(data[0][0], word_to_ix)  # example"
   ]
  },
  {
   "cell_type": "markdown",
   "metadata": {},
   "source": [
    "Now, let's visualize the embeddings we've pulled out for any clustering\n",
    "\n",
    "Dimensionality reduction using TSNE on the 10 dimensional text embedding, and dumping it into 2d space"
   ]
  },
  {
   "cell_type": "code",
   "execution_count": 179,
   "metadata": {
    "scrolled": true
   },
   "outputs": [],
   "source": [
    "def get_embedding(index, embeddings):\n",
    "    return embeddings(torch.tensor(index, dtype=torch.long)).detach().numpy()\n",
    "\n",
    "embeddings = cbow.embed\n",
    "\n",
    "word_embeddings = {word: get_embedding(index, embeddings) for word, index in word_to_ix.items()}\n",
    "embedding_matrix = np.matrix([get_embedding(index, embeddings) for index in range(len(word_to_ix))])\n",
    "tsne = TSNE()\n",
    "transformed = tsne.fit_transform(embedding_matrix)\n",
    "word_transformed = [(ix_to_word[i], transformed[i][0], transformed[i][1]) for i in range(len(word_to_ix))]"
   ]
  },
  {
   "cell_type": "code",
   "execution_count": 188,
   "metadata": {},
   "outputs": [
    {
     "data": {
      "image/png": "[encoded data removed]",
      "text/plain": [
       "<Figure size 1080x720 with 1 Axes>"
      ]
     },
     "metadata": {},
     "output_type": "display_data"
    }
   ],
   "source": [
    "plt.figure(1, (15, 10))\n",
    "plt.scatter(*zip(*[(i[1], i[2]) for i in word_transformed]))\n",
    "for word, x, y in word_transformed:\n",
    "    plt.annotate(word, (x, y))\n",
    "plt.show()"
   ]
  },
  {
   "cell_type": "code",
   "execution_count": 178,
   "metadata": {},
   "outputs": [
    {
     "data": {
      "text/plain": [
       "11.809801"
      ]
     },
     "execution_count": 178,
     "metadata": {},
     "output_type": "execute_result"
    }
   ],
   "source": [
    "transformed[0][1]"
   ]
  },
  {
   "cell_type": "code",
   "execution_count": 180,
   "metadata": {},
   "outputs": [
    {
     "data": {
      "text/plain": [
       "[('about', 14.6152315, 14.637125),\n",
       " ('spirits', -40.10351, -13.83777),\n",
       " ('to', 37.71747, -45.91523),\n",
       " ('we', 9.60317, 3.7019167),\n",
       " ('inhabit', -35.747513, -35.543373),\n",
       " ('direct', 16.18105, -16.882576),\n",
       " ('things', 4.42552, -22.537237),\n",
       " ('spells.', 27.618078, 13.994449),\n",
       " ('of', -1.9495914, -56.004707),\n",
       " ('program.', -13.302757, -1.4166546),\n",
       " ('process.', -18.713032, 21.382967),\n",
       " ('directed', 28.517097, 41.53819),\n",
       " ('processes.', 0.86190397, 38.833744),\n",
       " ('conjure', -12.595264, -17.865507),\n",
       " ('As', 10.437628, -35.009754),\n",
       " ('People', 34.587242, 2.0688527),\n",
       " ('idea', -9.637466, -42.671764),\n",
       " ('computer', -27.846123, 8.162039),\n",
       " ('process', 20.025553, 2.1315796),\n",
       " ('In', -21.55695, -32.15341),\n",
       " ('We', 21.835176, -29.319872),\n",
       " ('computers.', -7.6403527, -30.321974),\n",
       " ('create', -23.635391, -6.5690546),\n",
       " ('study', 34.525448, 24.581846),\n",
       " ('evolution', 0.13440825, 14.759117),\n",
       " ('rules', 11.467225, -8.087008),\n",
       " ('that', -16.407228, 36.895695),\n",
       " ('called', 6.4196477, 54.749706),\n",
       " ('manipulate', 19.294605, -49.734123),\n",
       " ('computational', -0.3538949, -10.080382),\n",
       " ('are', 53.846725, 25.964615),\n",
       " ('pattern', 33.12612, -35.521996),\n",
       " ('beings', 29.466362, -18.322382),\n",
       " ('effect,', -7.387684, 24.271597),\n",
       " ('with', 7.9050097, 26.001638),\n",
       " ('the', 58.145153, 14.495527),\n",
       " ('a', 49.861526, -22.32005),\n",
       " ('our', 39.29617, 37.47647),\n",
       " ('data.', 22.539495, 24.355618),\n",
       " ('evolve,', 15.575715, 38.723087),\n",
       " ('other', 45.074978, 12.838187),\n",
       " ('The', -17.730295, -53.27605),\n",
       " ('by', -31.513308, 27.049679),\n",
       " ('processes', 56.825188, 2.0951123),\n",
       " ('abstract', -29.798677, -22.728683),\n",
       " ('programs', 27.261297, -7.63234),\n",
       " ('is', -11.869635, 11.239785),\n",
       " ('they', -0.92327386, 1.11624),\n",
       " ('Computational', 47.2018, -9.527207)]"
      ]
     },
     "execution_count": 180,
     "metadata": {},
     "output_type": "execute_result"
    }
   ],
   "source": [
    "word_transformed"
   ]
  },
  {
   "cell_type": "code",
   "execution_count": null,
   "metadata": {},
   "outputs": [],
   "source": []
  }
 ],
 "metadata": {
  "kernelspec": {
   "display_name": "Python [conda env:pytorch]",
   "language": "python",
   "name": "conda-env-pytorch-py"
  },
  "language_info": {
   "codemirror_mode": {
    "name": "ipython",
    "version": 3
   },
   "file_extension": ".py",
   "mimetype": "text/x-python",
   "name": "python",
   "nbconvert_exporter": "python",
   "pygments_lexer": "ipython3",
   "version": "3.6.5"
  }
 },
 "nbformat": 4,
 "nbformat_minor": 2
}
