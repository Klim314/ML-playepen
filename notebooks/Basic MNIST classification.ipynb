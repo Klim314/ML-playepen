{
 "cells": [
  {
   "cell_type": "code",
   "execution_count": 192,
   "metadata": {},
   "outputs": [],
   "source": [
    "import torch\n",
    "import torch.nn.functional as F\n",
    "import torch.nn as nn\n",
    "import torchvision\n",
    "from torchvision import transforms\n",
    "from torch.autograd import Variable\n",
    "\n",
    "import os\n",
    "import numpy as np\n",
    "from PIL import Image\n",
    "from matplotlib import pyplot as plt\n",
    "\n",
    "data_dir = \"../data\""
   ]
  },
  {
   "cell_type": "code",
   "execution_count": 93,
   "metadata": {},
   "outputs": [
    {
     "name": "stdout",
     "output_type": "stream",
     "text": [
      "tensor(0.1307)\n"
     ]
    },
    {
     "data": {
      "text/plain": [
       "tensor(0.3081)"
      ]
     },
     "execution_count": 93,
     "metadata": {},
     "output_type": "execute_result"
    }
   ],
   "source": [
    "example = torchvision.datasets.MNIST(data_dir, train=True, download=True, transform=transforms.ToTensor())\n",
    "exampleloader = torch.utils.data.DataLoader(example, batch_size=4, shuffle=True, num_workers=2)\n",
    "print(example.train_data.float().mean()/255)\n",
    "example.train_data.float().std()/255"
   ]
  },
  {
   "cell_type": "code",
   "execution_count": 75,
   "metadata": {},
   "outputs": [],
   "source": [
    "def imshow(img):\n",
    "    img = img / 2 + 0.5     # unnormalize\n",
    "    npimg = img.numpy()\n",
    "    plt.imshow(np.transpose(npimg, (1, 2, 0)))"
   ]
  },
  {
   "cell_type": "code",
   "execution_count": 98,
   "metadata": {},
   "outputs": [
    {
     "name": "stdout",
     "output_type": "stream",
     "text": [
      "[[[2 2 0]\n",
      "  [1 4 1]\n",
      "  [0 3 0]]] mean=[[1.         3.         0.33333333]], sd=[[0.81649658 0.81649658 0.47140452]]\n",
      "IMAGE [[[2 2 0]\n",
      "  [1 4 1]\n",
      "  [0 3 0]]]\n",
      "tensor(1.00000e-02 *\n",
      "       [[[ 0.7843,  0.3922,  0.0000]],\n",
      "\n",
      "        [[ 0.7843,  1.5686,  1.1765]],\n",
      "\n",
      "        [[ 0.0000,  0.3922,  0.0000]]])\n"
     ]
    },
    {
     "data": {
      "text/plain": [
       "tensor([[[-1.2151, -1.2199, -1.2247]],\n",
       "\n",
       "        [[-3.6646, -3.6550, -3.6598]],\n",
       "\n",
       "        [[-0.7071, -0.6988, -0.7071]]])"
      ]
     },
     "execution_count": 98,
     "metadata": {},
     "output_type": "execute_result"
    }
   ],
   "source": [
    "# Playing aroud to figure out how pytorch normalize works\n",
    "arr = np.array([[[2, 2, 0], [1, 4, 1], [0, 3, 0]]], dtype=np.uint8)\n",
    "meanval, stdval = np.mean(arr, axis=1), np.std(arr, axis=1)\n",
    "print(arr, \"mean={}, sd={}\".format(meanval, stdval))\n",
    "test = Image.fromarray(arr)\n",
    "print(\"IMAGE\", np.array(test))\n",
    "test_tensor =transforms.ToTensor()(test)\n",
    "print(test_tensor)\n",
    "transforms.Normalize(meanval[0], stdval[0])(test_tensor)"
   ]
  },
  {
   "cell_type": "code",
   "execution_count": 212,
   "metadata": {},
   "outputs": [
    {
     "data": {
      "text/plain": [
       "True"
      ]
     },
     "execution_count": 212,
     "metadata": {},
     "output_type": "execute_result"
    }
   ],
   "source": [
    "BATCH_SIZE=64\n",
    "EPOCHS=10\n",
    "os.path.realpath(data_dir)\n",
    "use_cuda = torch.cuda.is_available()\n",
    "use_cuda"
   ]
  },
  {
   "cell_type": "code",
   "execution_count": 133,
   "metadata": {},
   "outputs": [],
   "source": [
    "# Figure out the mean and sd of the dataset\n",
    "trainset = torchvision.datasets.MNIST(data_dir, train=True, download=True, transform=transforms.ToTensor())\n",
    "train_mean = trainset.train_data.float().mean()/255\n",
    "train_sd = trainset.train_data.float().std()/255\n",
    "\n",
    "# Define the transforms with proper normalizatin\n",
    "transform = transforms.Compose([transforms.ToTensor(),\n",
    "                                transforms.Normalize([train_mean], [train_sd])])\n",
    "\n",
    "# Load train and testsets\n",
    "trainset = torchvision.datasets.MNIST(data_dir, train=True, download=True, transform=transform)\n",
    "trainloader = torch.utils.data.DataLoader(trainset, shuffle=True, batch_size=BATCH_SIZE, num_workers=4)\n",
    "\n",
    "testset = torchvision.datasets.MNIST(data_dir, train=False, download=True, transform=transform)\n",
    "testloader = torch.utils.data.DataLoader(testset, shuffle=True, batch_size=BATCH_SIZE, num_workers=4)"
   ]
  },
  {
   "cell_type": "code",
   "execution_count": 139,
   "metadata": {},
   "outputs": [
    {
     "name": "stdout",
     "output_type": "stream",
     "text": [
      "torch.Size([64, 1, 28, 28])\n",
      "torch.Size([64])\n",
      "tensor([ 7,  8,  8,  1,  8,  8,  8,  6,  1,  4,  2,  8,  6,  3,\n",
      "         1,  4,  0,  7,  1,  2,  7,  3,  7,  4,  9,  6,  4,  8,\n",
      "         8,  3,  3,  3,  1,  9,  9,  7,  1,  0,  7,  3,  7,  4,\n",
      "         3,  6,  0,  1,  7,  6,  7,  4,  5,  1,  4,  0,  1,  4,\n",
      "         5,  2,  7,  6,  2,  5,  5,  4])\n"
     ]
    }
   ],
   "source": [
    "\"\"\"Things to note\n",
    "    each batch (iter) is a 4d tensor of (batchsize, channels, height, width)\n",
    "    note that while image is is of form (H, W, Channels), tensors move the channel up a level\n",
    "\"\"\"\n",
    "for images, labels in trainloader:\n",
    "    print(images.shape)\n",
    "    print(labels.shape)\n",
    "    print(labels)\n",
    "    break"
   ]
  },
  {
   "cell_type": "code",
   "execution_count": 138,
   "metadata": {},
   "outputs": [
    {
     "name": "stderr",
     "output_type": "stream",
     "text": [
      "Clipping input data to the valid range for imshow with RGB data ([0..1] for floats or [0..255] for integers).\n"
     ]
    },
    {
     "name": "stdout",
     "output_type": "stream",
     "text": [
      "Labels:  tensor([ 3,  3,  2,  0,  9,  6,  8,  0,  2,  3,  4,  1,  6,  4,\n",
      "         9,  1,  6,  5,  3,  1,  3,  8,  5,  6,  0,  8,  5,  5,\n",
      "         0,  0,  7,  2,  8,  7,  9,  5,  1,  2,  0,  7,  7,  7,\n",
      "         7,  5,  3,  2,  5,  6,  4,  8,  7,  0,  7,  8,  4,  4,\n",
      "         2,  1,  4,  9,  8,  3,  3,  1])\n",
      "Batch shape:  torch.Size([64, 1, 28, 28])\n"
     ]
    },
    {
     "data": {
      "image/png": "[encoded data removed]",
      "text/plain": [
       "<Figure size 432x288 with 1 Axes>"
      ]
     },
     "metadata": {},
     "output_type": "display_data"
    }
   ],
   "source": [
    "def show_batch(batch):\n",
    "    im = torchvision.utils.make_grid(batch)\n",
    "    plt.imshow(np.transpose(im.numpy(), (1, 2, 0)))\n",
    "    \n",
    "dataiter = iter(trainloader)\n",
    "images, labels = dataiter.next()\n",
    "\n",
    "print('Labels: ', labels)\n",
    "print('Batch shape: ', images.size())\n",
    "show_batch(images)"
   ]
  },
  {
   "cell_type": "code",
   "execution_count": 213,
   "metadata": {},
   "outputs": [],
   "source": [
    "# Create the classifier\n",
    "class ClassifierNet(nn.Module):\n",
    "    def __init__(self):\n",
    "        super().__init__()\n",
    "        # From one feature, create 6 features to learn using a convolutional layer\n",
    "        self.conv1 = nn.Conv2d(1, 6, 5)\n",
    "        self.pool = nn.MaxPool2d(2, 2)\n",
    "        self.conv2 = nn.Conv2d(6, 16, 5)\n",
    "        # A good estimate of hidden node count is the feature count\n",
    "        # Note: Image size decreases because of max pooling and convolutions\n",
    "        # c1: 28 * 28 -> 24 * 24\n",
    "        # pool1: 28 * 28 -> 12 * 12\n",
    "        # c2: 12 * 12 -> 8 * 8\n",
    "        # pool2: 8 * 8 -> 4 * 4\n",
    "        # We have 4 * 4 <image size> * 16 <Learned features>\n",
    "        self.fc1 = nn.Linear(16 * 4 * 4, 200)\n",
    "        self.fc2 = nn.Linear(200, 100)\n",
    "        # 10 final output nodes\n",
    "        self.fc3 = nn.Linear(100, 10)\n",
    "    \n",
    "    def forward(self, x, afunc=F.relu):\n",
    "        \"\"\"\n",
    "        @args\n",
    "            afunc: Activation function to use.\n",
    "        \"\"\"\n",
    "        x = self.pool(afunc(self.conv1(x)))\n",
    "        x = self.pool(afunc(self.conv2(x)))\n",
    "        x = x.view(-1, 16 * 4 * 4)\n",
    "        x = afunc(self.fc1(x))\n",
    "#         print(x.shape)\n",
    "        x = afunc(self.fc2(x))\n",
    "        x = self.fc3(x)\n",
    "        return x\n",
    "\n",
    "net = ClassifierNet()\n",
    "if use_cuda:\n",
    "    net = net.cuda()"
   ]
  },
  {
   "cell_type": "code",
   "execution_count": 214,
   "metadata": {},
   "outputs": [],
   "source": [
    "# Adam performs well in general. Need to read more. Adaptive gradient variants do have their downsides too\n",
    "from torch.optim import Adam\n",
    "criterion = nn.CrossEntropyLoss()\n",
    "optimizer = Adam(net.parameters())"
   ]
  },
  {
   "cell_type": "code",
   "execution_count": 233,
   "metadata": {},
   "outputs": [
    {
     "name": "stdout",
     "output_type": "stream",
     "text": [
      "Epoch 0, batch 0, running_loss 0.000001\n",
      "Epoch 0, batch 300, running_loss 0.004191\n",
      "Epoch 0, batch 600, running_loss 0.003254\n",
      "Epoch 0, batch 900, running_loss 0.004828\n",
      "Epoch 1, batch 0, running_loss 0.000000\n",
      "Epoch 1, batch 300, running_loss 0.004167\n",
      "Epoch 1, batch 600, running_loss 0.002958\n",
      "Epoch 1, batch 900, running_loss 0.003380\n",
      "Epoch 2, batch 0, running_loss 0.000005\n",
      "Epoch 2, batch 300, running_loss 0.003312\n",
      "Epoch 2, batch 600, running_loss 0.002923\n",
      "Epoch 2, batch 900, running_loss 0.004442\n",
      "Epoch 3, batch 0, running_loss 0.000002\n",
      "Epoch 3, batch 300, running_loss 0.002990\n",
      "Epoch 3, batch 600, running_loss 0.002795\n",
      "Epoch 3, batch 900, running_loss 0.002708\n",
      "Epoch 4, batch 0, running_loss 0.000000\n",
      "Epoch 4, batch 300, running_loss 0.003356\n",
      "Epoch 4, batch 600, running_loss 0.002236\n",
      "Epoch 4, batch 900, running_loss 0.002309\n",
      "Epoch 5, batch 0, running_loss 0.000000\n",
      "Epoch 5, batch 300, running_loss 0.002966\n",
      "Epoch 5, batch 600, running_loss 0.002687\n",
      "Epoch 5, batch 900, running_loss 0.002574\n",
      "Epoch 6, batch 0, running_loss 0.000000\n",
      "Epoch 6, batch 300, running_loss 0.002597\n",
      "Epoch 6, batch 600, running_loss 0.002198\n",
      "Epoch 6, batch 900, running_loss 0.001465\n",
      "Epoch 7, batch 0, running_loss 0.000002\n",
      "Epoch 7, batch 300, running_loss 0.000714\n",
      "Epoch 7, batch 600, running_loss 0.003284\n",
      "Epoch 7, batch 900, running_loss 0.002919\n",
      "Epoch 8, batch 0, running_loss 0.000000\n",
      "Epoch 8, batch 300, running_loss 0.002275\n",
      "Epoch 8, batch 600, running_loss 0.002643\n",
      "Epoch 8, batch 900, running_loss 0.002123\n",
      "Epoch 9, batch 0, running_loss 0.000000\n",
      "Epoch 9, batch 300, running_loss 0.002374\n",
      "Epoch 9, batch 600, running_loss 0.001706\n",
      "Epoch 9, batch 900, running_loss 0.002545\n"
     ]
    }
   ],
   "source": [
    "# loss-records \n",
    "epoch_results = []\n",
    "for epoch in range(EPOCHS):\n",
    "    running_loss = 0.0\n",
    "    for batch_id, data in enumerate(trainloader):\n",
    "        inputs, labels = data\n",
    "        if use_cuda:\n",
    "            inputs, labels = inputs.cuda(), labels.cuda()\n",
    "#         inputs, labels = Variable(inputs), Variable(labels)\n",
    "        \n",
    "#         print(inputs.shape, labels.shape)\n",
    "        \n",
    "        # Zero parameter gradients\n",
    "        optimizer.zero_grad()\n",
    "        \n",
    "        # Generate outputs and calculate CEL\n",
    "        outputs = net(inputs)\n",
    "        loss = criterion(outputs, labels)\n",
    "        # Calculate backpropagation gradietns\n",
    "        loss.backward()\n",
    "        # Step the optimizer by a given epsilon\n",
    "        optimizer.step()\n",
    "        # Print the statistics\n",
    "        running_loss += loss.item()\n",
    "        if batch_id % 300 == 0:\n",
    "            print(\"Epoch {}, batch {}, running_loss {:4f}\".format(epoch, batch_id,\n",
    "                                                                  running_loss / 1000))\n",
    "            running_loss = 0.0\n",
    "    # Test the trained NN\n",
    "    total = 0\n",
    "    correct = 0\n",
    "    for batch_id, (inputs, labels) in enumerate(testloader):\n",
    "        if use_cuda:\n",
    "            inputs, labels = inputs.cuda(), labels.cuda()\n",
    "            outputs = net(inputs)\n",
    "            _, pred = torch.max(outputs, 1)\n",
    "            total += inputs.data.size()[0]\n",
    "            correct += (pred == labels).sum().item()\n",
    "    epoch_results.append((epoch + 1, correct / total))"
   ]
  },
  {
   "cell_type": "code",
   "execution_count": 234,
   "metadata": {},
   "outputs": [
    {
     "data": {
      "image/png": "[encoded data removed]",
      "text/plain": [
       "<Figure size 432x288 with 1 Axes>"
      ]
     },
     "metadata": {},
     "output_type": "display_data"
    }
   ],
   "source": [
    "plt.plot(*zip(*epoch_results))\n",
    "plt.show()"
   ]
  },
  {
   "cell_type": "code",
   "execution_count": null,
   "metadata": {},
   "outputs": [],
   "source": [
    "class ModularNet(nn.Module):\n",
    "    def __init__(self, convs, ):\n",
    "        super().__init__()\n",
    "        # From one feature, create 6 features to learn using a convolutional layer\n",
    "        self.conv1 = nn.Conv2d(1, 6, 5)\n",
    "        self.pool = nn.MaxPool2d(2, 2)\n",
    "        self.conv2 = nn.Conv2d(6, 16, 5)\n",
    "        # A good estimate of hidden node count is the feature count\n",
    "        # Note: Image size decreases because of max pooling and convolutions\n",
    "        # c1: 28 * 28 -> 24 * 24\n",
    "        # pool1: 28 * 28 -> 12 * 12\n",
    "        # c2: 12 * 12 -> 8 * 8\n",
    "        # pool2: 8 * 8 -> 4 * 4\n",
    "        # We have 4 * 4 <image size> * 16 <Learned features>\n",
    "        self.fc1 = nn.Linear(16 * 4 * 4, 200)\n",
    "        self.fc2 = nn.Linear(200, 100)\n",
    "        # 10 final output nodes\n",
    "        self.fc3 = nn.Linear(100, 10)\n",
    "    \n",
    "    def forward(self, x, afunc=F.relu):\n",
    "        \"\"\"\n",
    "        @args\n",
    "            afunc: Activation function to use.\n",
    "        \"\"\"\n",
    "        x = self.pool(afunc(self.conv1(x)))\n",
    "        x = self.pool(afunc(self.conv2(x)))\n",
    "        x = x.view(-1, 16 * 4 * 4)\n",
    "        x = afunc(self.fc1(x))\n",
    "#         print(x.shape)\n",
    "        x = afunc(self.fc2(x))\n",
    "        x = self.fc3(x)\n",
    "        return x\n",
    "\n",
    "def train_NN(ep)"
   ]
  },
  {
   "cell_type": "code",
   "execution_count": 229,
   "metadata": {},
   "outputs": [],
   "source": [
    "# Test the trained NN\n",
    "total = 0\n",
    "correct = 0\n",
    "for batch_id, (inputs, labels) in enumerate(testloader):\n",
    "    if use_cuda:\n",
    "        inputs, labels = inputs.cuda(), labels.cuda()\n",
    "        outputs = net(inputs)\n",
    "        _, pred = torch.max(outputs, 1)\n",
    "        total += inputs.data.size()[0]\n",
    "        correct += (pred == labels).sum().item()"
   ]
  },
  {
   "cell_type": "code",
   "execution_count": 231,
   "metadata": {},
   "outputs": [
    {
     "name": "stdout",
     "output_type": "stream",
     "text": [
      "Total samples: 10000. Total Correct: 9912. Prop correct: 0.991\n"
     ]
    }
   ],
   "source": [
    "print(f\"Total samples: {total}. Total Correct: {correct}. Prop correct: {correct/total:.3f}\")"
   ]
  },
  {
   "cell_type": "code",
   "execution_count": 228,
   "metadata": {},
   "outputs": [
    {
     "name": "stdout",
     "output_type": "stream",
     "text": [
      "tensor(9912, device='cuda:0')\n"
     ]
    }
   ],
   "source": [
    "print(correct)"
   ]
  },
  {
   "cell_type": "code",
   "execution_count": null,
   "metadata": {},
   "outputs": [],
   "source": []
  }
 ],
 "metadata": {
  "kernelspec": {
   "display_name": "Python [conda env:pytorch]",
   "language": "python",
   "name": "conda-env-pytorch-py"
  },
  "language_info": {
   "codemirror_mode": {
    "name": "ipython",
    "version": 3
   },
   "file_extension": ".py",
   "mimetype": "text/x-python",
   "name": "python",
   "nbconvert_exporter": "python",
   "pygments_lexer": "ipython3",
   "version": "3.6.5"
  }
 },
 "nbformat": 4,
 "nbformat_minor": 2
}
